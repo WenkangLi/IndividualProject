{
  "cells": [
    {
      "cell_type": "code",
      "execution_count": null,
      "metadata": {
        "id": "aCwnTrI-KOT3"
      },
      "outputs": [],
      "source": [
        "import numpy as np\n",
        "import matplotlib.pyplot as plt\n",
        "from scipy import signal\n",
        "import pandas as pd\n",
        "import os\n",
        "from PIL import Image"
      ]
    },
    {
      "cell_type": "code",
      "execution_count": null,
      "metadata": {},
      "outputs": [],
      "source": [
        "# Generate example data\n",
        "path_data_training = 'G:\\Code_Multimodal_Deep_learning\\Data\\Mydataset_p005\\All_Combine\\Subject_5_ECG_EMG_signalsAllMydata.csv' #TrainingDataWithAllSignalsSR500_StandardCutoff.csv \n",
        "path_data_training = 'G:\\Code_Multimodal_Deep_learning\\Data\\Testing001\\All_Combine\\Subject_1_EEG_fnirs_ECG_EMG_signal.csv' #TrainingDataWithAllSignalsSR500_StandardCutoff.csv \n",
        "# ssl._create_default_https_context = ssl._create_unverified_context\n",
        "df = pd.read_csv(path_data_training, delimiter=',', header=None,)\n",
        "row_numbers = df.index"
      ]
    },
    {
      "cell_type": "code",
      "execution_count": null,
      "metadata": {},
      "outputs": [],
      "source": [
        "df"
      ]
    },
    {
      "cell_type": "code",
      "execution_count": null,
      "metadata": {},
      "outputs": [],
      "source": [
        "for i in row_numbers:\n",
        "    # Extract the current time window from the dataset\n",
        "    time_window = df.iloc[i,:-1].to_numpy()\n",
        "    folder_name = f\"class{int(df.iloc[i,-1])}\"\n",
        "    # time_window1 = np.array_split(df.iloc[i+1,:-1].to_numpy(), 66)\n",
        "    # time_window2 = np.array_split(df.iloc[i+2,:-1].to_numpy(), 66)\n",
        "    filename = f\"image_{i}.png\"\n",
        "    # Generate the three images\n",
        "    data_display = np.array(time_window)\n",
        "    # Compute spectrograms\n",
        "    frequencies, times, spectrogram = signal.spectrogram(data_display, fs=512)\n",
        "\n",
        "    # Plot the spectrogram\n",
        "    plt.figure(figsize=(10, 6))\n",
        "    plt.pcolormesh( 10 * np.log10(spectrogram), shading='auto', cmap='inferno')\n",
        "    plt.axis('off')\n",
        "    # Save the combined image\n",
        "    folder_path = os.path.join(\"G:\\Code_Multimodal_Deep_learning\\Data\\Mydataset_p006\\All_Combine\\ImageDataset\", folder_name) # Change this \"Mydataset_p??\" number before using\n",
        "    os.makedirs(folder_path, exist_ok=True)\n",
        "    plt.savefig(os.path.join(folder_path, filename), dpi=300, bbox_inches='tight',transparent=True)"
      ]
    },
    {
      "cell_type": "code",
      "execution_count": null,
      "metadata": {},
      "outputs": [],
      "source": [
        "for i in row_numbers:\n",
        "    # Extract the current time window from the dataset\n",
        "    time_window = df.iloc[i,:-1].to_numpy()\n",
        "    folder_name = f\"class{int(df.iloc[i,-1])}\"\n",
        "    # time_window1 = np.array_split(df.iloc[i+1,:-1].to_numpy(), 66)\n",
        "    # time_window2 = np.array_split(df.iloc[i+2,:-1].to_numpy(), 66)\n",
        "    filename = f\"image_{i}.png\"\n",
        "    # Generate the three images\n",
        "    dataToDisplay_1 = np.array(time_window[:512])\n",
        "    dataToDisplay_2 = np.array(time_window[512:9512])\n",
        "    dataToDisplay_3 = np.array(time_window[9512:])\n",
        "\n",
        "    # Compute spectrograms\n",
        "    _, _, spectrogram_1 = signal.spectrogram(dataToDisplay_1, fs=512)\n",
        "    _, _, spectrogram_2 = signal.spectrogram(dataToDisplay_2, fs=2000)\n",
        "    _, _, spectrogram_3 = signal.spectrogram(dataToDisplay_3, fs=2000)\n",
        "\n",
        "    # Create a new figure with subplots\n",
        "    fig, axes = plt.subplots(1, 3, figsize=(10, 4))\n",
        "\n",
        "    # Plot the first spectrogram\n",
        "    axes[0].imshow(10 * np.log10(spectrogram_1), aspect='auto', cmap='inferno')\n",
        "    axes[0].axis('off')\n",
        "\n",
        "    # Plot the second spectrogram\n",
        "    axes[1].imshow(10 * np.log10(spectrogram_2), aspect='auto', cmap='inferno')\n",
        "    axes[1].axis('off')\n",
        "\n",
        "    # Plot the third spectrogram\n",
        "    axes[2].imshow(10 * np.log10(spectrogram_3), aspect='auto', cmap='inferno')\n",
        "    axes[2].axis('off')\n",
        "\n",
        "    # Adjust the spacing between subplots\n",
        "    plt.tight_layout()\n",
        "\n",
        "    # Save the combined image\n",
        "    folder_path = os.path.join(\"G:\\Code_Multimodal_Deep_learning\\Data\\Testing001\\All_Combine\\ImageDataset\", folder_name) # Change this \"Mydataset_p??\" number before using\n",
        "    os.makedirs(folder_path, exist_ok=True)\n",
        "    plt.savefig(os.path.join(folder_path, filename), dpi=300, bbox_inches='tight',transparent=True)\n",
        "# # Extract the current time window from the dataset\n",
        "# time_window = np.array_split(df.iloc[0,:-1].to_numpy(), 66)\n",
        "# time_window1 = np.array_split(df.iloc[1,:-1].to_numpy(), 66)\n",
        "# time_window2 = np.array_split(df.iloc[2,:-1].to_numpy(), 66)\n",
        "# # time_window = df.iloc[4,:-1].to_numpy()\n",
        "# time_window = np.hstack((time_window[0], time_window1[0], time_window2[0]))\n",
        "\n",
        "# # Split the array into 66 parts\n",
        "\n",
        "# # Compute spectrogram\n",
        "# frequencies, times, spectrogram = signal.spectrogram(time_window, fs=512)\n",
        "# # Plot the spectrogram\n",
        "# plt.pcolormesh(times, frequencies, 10 * np.log10(spectrogram), shading='auto', cmap='inferno')\n",
        "# plt.colorbar(label='Power Spectral Density (dB)')\n",
        "# plt.title(f'Spectrogram - Time Window {1}')\n",
        "# plt.xlabel('Time (s)')\n",
        "# plt.ylabel('Frequency (Hz)')\n",
        "# plt.tight_layout()\n",
        "# plt.show()"
      ]
    }
  ],
  "metadata": {
    "accelerator": "GPU",
    "colab": {
      "machine_shape": "hm",
      "provenance": []
    },
    "gpuClass": "standard",
    "kernelspec": {
      "display_name": "Python 3",
      "name": "python3"
    },
    "language_info": {
      "codemirror_mode": {
        "name": "ipython",
        "version": 3
      },
      "file_extension": ".py",
      "mimetype": "text/x-python",
      "name": "python",
      "nbconvert_exporter": "python",
      "pygments_lexer": "ipython3",
      "version": "3.8.16"
    }
  },
  "nbformat": 4,
  "nbformat_minor": 0
}
